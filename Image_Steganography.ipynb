{
 "cells": [
  {
   "cell_type": "code",
   "execution_count": 2,
   "metadata": {},
   "outputs": [
    {
     "name": "stdout",
     "output_type": "stream",
     "text": [
      "Requirement already satisfied: pillow in c:\\users\\dell\\appdata\\roaming\\python\\python312\\site-packages (10.2.0)\n",
      "Note: you may need to restart the kernel to use updated packages.\n"
     ]
    },
    {
     "name": "stderr",
     "output_type": "stream",
     "text": [
      "\n",
      "[notice] A new release of pip is available: 24.0 -> 24.3.1\n",
      "[notice] To update, run: python.exe -m pip install --upgrade pip\n"
     ]
    }
   ],
   "source": [
    "pip install pillow\n"
   ]
  },
  {
   "cell_type": "code",
   "execution_count": 3,
   "metadata": {},
   "outputs": [],
   "source": [
    "from tkinter import Tk, Text, filedialog, messagebox, Label, Button\n",
    "from PIL import Image, ImageTk\n",
    "import os"
   ]
  },
  {
   "cell_type": "code",
   "execution_count": 4,
   "metadata": {},
   "outputs": [],
   "source": [
    "def encode_text(image_path, save_path, secret_message):\n",
    "    binary_message = ''.join(format(ord(char), '08b') for char in secret_message)\n",
    "    \n",
    "    binary_message += '1111111111111110'\n",
    "\n",
    "    img = Image.open(image_path)\n",
    "    img = img.convert(\"RGBA\")\n",
    "    pixels = list(img.getdata())\n",
    "    \n",
    "    binary_index = 0\n",
    "    for i in range(len(pixels)):\n",
    "        if binary_index < len(binary_message):\n",
    "            r, g, b, a = pixels[i]\n",
    "            r = (r & ~1) | int(binary_message[binary_index])\n",
    "            pixels[i] = (r, g, b, a)\n",
    "            binary_index += 1\n",
    "        else:\n",
    "            break\n",
    "    \n",
    "    img.putdata(pixels)\n",
    "    img.save(save_path)\n",
    "    print(f\"Encoding complete. Image saved as '{save_path}'.\")\n"
   ]
  },
  {
   "cell_type": "code",
   "execution_count": 5,
   "metadata": {},
   "outputs": [],
   "source": [
    "def decode_text(input_path):\n",
    "    try:\n",
    "        img = Image.open(input_path)\n",
    "        img = img.convert(\"RGBA\")\n",
    "        pixels = list(img.getdata())\n",
    "        \n",
    "        binary_message = \"\"\n",
    "        for pixel in pixels:\n",
    "            r, g, b, a = pixel\n",
    "            binary_message += str(r & 1)\n",
    "        \n",
    "        end_marker = \"1111111111111110\"\n",
    "\n",
    "        if end_marker in binary_message:\n",
    "            binary_message = binary_message.split(end_marker)[0]\n",
    "        else:\n",
    "            return None\n",
    "\n",
    "        all_bytes = [binary_message[i:i+8] for i in range(0, len(binary_message), 8)]\n",
    "        decoded_message = \"\"\n",
    "        \n",
    "        for byte in all_bytes:\n",
    "            if len(byte) == 8:\n",
    "                decoded_message += chr(int(byte, 2))\n",
    "        \n",
    "        if not decoded_message.strip() or \"ÿ\" in decoded_message:\n",
    "            return None\n",
    "        \n",
    "        return decoded_message\n",
    "\n",
    "    except Exception as e:\n",
    "        raise RuntimeError(f\"Decoding failed: {e}\")\n"
   ]
  },
  {
   "cell_type": "code",
   "execution_count": 6,
   "metadata": {},
   "outputs": [],
   "source": [
    "def browse_file():\n",
    "    global selected_file\n",
    "    selected_file = filedialog.askopenfilename(filetypes=[(\"Image Files\", \"*.png;*.bmp\")])\n",
    "    if selected_file:\n",
    "        lbl_selected_file.config(text=f\"Selected File: {os.path.basename(selected_file)}\")"
   ]
  },
  {
   "cell_type": "code",
   "execution_count": 7,
   "metadata": {},
   "outputs": [],
   "source": [
    "def display_images(original_path, encoded_path):\n",
    "    original_image = Image.open(original_path).resize((200, 200))\n",
    "    original_photo = ImageTk.PhotoImage(original_image)\n",
    "    lbl_original_image.config(image=original_photo)\n",
    "    lbl_original_image.image = original_photo\n",
    "    lbl_original_text.config(text=\"Original Image\")\n",
    "    \n",
    "    encoded_image = Image.open(encoded_path).resize((200, 200))\n",
    "    encoded_photo = ImageTk.PhotoImage(encoded_image)\n",
    "    lbl_encoded_image.config(image=encoded_photo)\n",
    "    lbl_encoded_image.image = encoded_photo\n",
    "    lbl_encoded_text.config(text=\"Stego-Image\")"
   ]
  },
  {
   "cell_type": "code",
   "execution_count": 8,
   "metadata": {},
   "outputs": [],
   "source": [
    "def encode_message():\n",
    "    global selected_file\n",
    "    if not selected_file:\n",
    "        messagebox.showerror(\"Error\", \"Please select an image.\")\n",
    "        return\n",
    "    \n",
    "    secret_message = txt_message.get(\"1.0\", \"end-1c\")\n",
    "    if not secret_message:\n",
    "        messagebox.showerror(\"Error\", \"Please enter a secret message.\")\n",
    "        return\n",
    "\n",
    "    save_path = filedialog.asksaveasfilename(defaultextension=\".png\", filetypes=[(\"PNG Files\", \"*.png\")])\n",
    "    if not save_path:\n",
    "        return  # User canceled the save dialog\n",
    "\n",
    "    try:\n",
    "        encode_text(selected_file, save_path, secret_message)\n",
    "        display_images(selected_file, save_path)\n",
    "        messagebox.showinfo(\"Success\", \"Message encoded successfully!\")\n",
    "    except RuntimeError as e:\n",
    "        messagebox.showerror(\"Error\", str(e))\n",
    "    except Exception as e:\n",
    "        messagebox.showerror(\"Unexpected Error\", f\"Something went wrong: {e}\")\n"
   ]
  },
  {
   "cell_type": "code",
   "execution_count": 9,
   "metadata": {},
   "outputs": [],
   "source": [
    "def decode_message():\n",
    "    file_path = filedialog.askopenfilename(filetypes=[(\"Image Files\", \"*.png;*.bmp\")])\n",
    "    if not file_path:\n",
    "        messagebox.showerror(\"Error\", \"No image selected for decoding.\")\n",
    "        return\n",
    "\n",
    "    try:\n",
    "        hidden_message = decode_text(file_path)\n",
    "\n",
    "        if hidden_message:\n",
    "            lbl_original_image.config(image=\"\")\n",
    "            lbl_original_image.image = None\n",
    "            lbl_original_text.config(text=\"\")\n",
    "            lbl_encoded_text.config(text=f\"Message Found: {hidden_message}\")\n",
    "        else:\n",
    "            lbl_original_image.config(image=\"\")\n",
    "            lbl_original_image.image = None\n",
    "            lbl_original_text.config(text=\"\")\n",
    "            lbl_encoded_text.config(text=\"No Hidden Message Found.\")\n",
    "    except RuntimeError as e:\n",
    "        messagebox.showerror(\"Error\", str(e))\n",
    "    except Exception as e:\n",
    "        messagebox.showerror(\"Unexpected Error\", f\"Something went wrong: {e}\")\n"
   ]
  },
  {
   "cell_type": "code",
   "execution_count": 10,
   "metadata": {},
   "outputs": [],
   "source": [
    "# GUI Setup\n",
    "app = Tk()\n",
    "app.title(\"Image Steganography\")\n",
    "app.geometry(\"500x400\")\n",
    "\n",
    "lbl_title = Label(app, text=\"Image Steganography\", font=(\"Arial\", 18))\n",
    "lbl_title.pack(pady=10)\n",
    "\n",
    "btn_browse = Button(app, text=\"Select Image\", command=browse_file)\n",
    "btn_browse.pack(pady=5)\n",
    "\n",
    "lbl_selected_file = Label(app, text=\"Selected File: None\", font=(\"Arial\", 10))\n",
    "lbl_selected_file.pack()\n",
    "\n",
    "lbl_message = Label(app, text=\"Enter Secret Message:\", font=(\"Arial\", 12))\n",
    "lbl_message.pack(pady=5)\n",
    "\n",
    "txt_message = Text(app, height=5, width=40)\n",
    "txt_message.pack(pady=5)\n",
    "\n",
    "btn_encode = Button(app, text=\"Encode Message\", command=encode_message, bg=\"lightblue\")\n",
    "btn_encode.pack(pady=5)\n",
    "\n",
    "btn_decode = Button(app, text=\"Decode Message\", command=decode_message, bg=\"lightgreen\")\n",
    "btn_decode.pack(pady=5)\n",
    "\n",
    "lbl_original_text = Label(app, text=\"\", font=(\"Arial\", 12))\n",
    "lbl_original_text.pack(pady=5)\n",
    "lbl_original_image = Label(app)\n",
    "lbl_original_image.pack()\n",
    "\n",
    "lbl_encoded_text = Label(app, text=\"\", font=(\"Arial\", 12))\n",
    "lbl_encoded_text.pack(pady=5)\n",
    "lbl_encoded_image = Label(app)\n",
    "lbl_encoded_image.pack()\n"
   ]
  },
  {
   "cell_type": "code",
   "execution_count": 11,
   "metadata": {},
   "outputs": [
    {
     "name": "stdout",
     "output_type": "stream",
     "text": [
      "Encoding complete. Image saved as 'C:/Users/Dell/Desktop/encoded.png'.\n"
     ]
    }
   ],
   "source": [
    "app.mainloop()"
   ]
  }
 ],
 "metadata": {
  "kernelspec": {
   "display_name": "Python 3",
   "language": "python",
   "name": "python3"
  },
  "language_info": {
   "codemirror_mode": {
    "name": "ipython",
    "version": 3
   },
   "file_extension": ".py",
   "mimetype": "text/x-python",
   "name": "python",
   "nbconvert_exporter": "python",
   "pygments_lexer": "ipython3",
   "version": "3.12.2"
  }
 },
 "nbformat": 4,
 "nbformat_minor": 2
}
